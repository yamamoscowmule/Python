{
 "cells": [
  {
   "cell_type": "markdown",
   "metadata": {},
   "source": [
    "txtファイルを読み込み、空白ごとに要素を分割しリストに保存"
   ]
  },
  {
   "cell_type": "code",
   "execution_count": 1,
   "metadata": {},
   "outputs": [
    {
     "name": "stdout",
     "output_type": "stream",
     "text": [
      "[['unko', 'onara', 'tinko'], ['manko', 'anaru', 'manpo']]\n"
     ]
    }
   ],
   "source": [
    "with open(\"data.txt\",\"r\") as fp:\n",
    "    txt  = fp.readline()\n",
    "    data = []\n",
    "    while txt:\n",
    "        txt  = txt.rstrip(\"\\n\")\n",
    "        data.append(txt.split(\" \"))\n",
    "        txt  = fp.readline()\n",
    "    print(data)\n",
    "\n",
    "        "
   ]
  },
  {
   "cell_type": "markdown",
   "metadata": {},
   "source": [
    "---\n",
    "それをcsvに"
   ]
  },
  {
   "cell_type": "code",
   "execution_count": 2,
   "metadata": {},
   "outputs": [],
   "source": [
    "import pandas as pd\n",
    "import csv\n",
    "\n",
    "with open('some.csv', 'w') as f:\n",
    "    writer = csv.writer(f)  # 改行コード（\\n）を指定しておく\n",
    "    writer.writerow([\"1st\",\"2nd\",\"3rd\"])\n",
    "#    for i in range(len(data)):\n",
    "#        writer.writerow(data[i])     # list（1次元配列）の場合\n",
    "    writer.writerows(data) # 2次元配列も書き込める\n"
   ]
  },
  {
   "cell_type": "code",
   "execution_count": null,
   "metadata": {},
   "outputs": [],
   "source": []
  }
 ],
 "metadata": {
  "kernelspec": {
   "display_name": "Python 3",
   "language": "python",
   "name": "python3"
  },
  "language_info": {
   "codemirror_mode": {
    "name": "ipython",
    "version": 3
   },
   "file_extension": ".py",
   "mimetype": "text/x-python",
   "name": "python",
   "nbconvert_exporter": "python",
   "pygments_lexer": "ipython3",
   "version": "3.7.1"
  }
 },
 "nbformat": 4,
 "nbformat_minor": 2
}
